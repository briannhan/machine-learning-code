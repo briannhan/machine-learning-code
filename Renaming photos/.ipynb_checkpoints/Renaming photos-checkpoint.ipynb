{
 "cells": [
  {
   "cell_type": "markdown",
   "metadata": {},
   "source": [
    "# Renaming photos\n",
    "## Author(s): Brian Nhan Thien Chung (UCI NATURE research technician)\n",
    "### Created on: Friday August 28, 2020 by Brian Nhan Thien Chung\n",
    "### Last edited on: Friday August 28, 2020 by Brian Nhan Thien Chung\n",
    "\n",
    "The purpose of this Jupyter Notebook is to test the renaming of photos. As a proof of concept, photos taken at Bonita Canyon will be renamed before photos from other camera locations are renamed."
   ]
  },
  {
   "cell_type": "code",
   "execution_count": 60,
   "metadata": {},
   "outputs": [
    {
     "data": {
      "application/javascript": [
       "IPython.notebook.set_autosave_interval(10000)"
      ]
     },
     "metadata": {},
     "output_type": "display_data"
    },
    {
     "name": "stdout",
     "output_type": "stream",
     "text": [
      "Autosaving every 10 seconds\n"
     ]
    }
   ],
   "source": [
    "%autosave 10"
   ]
  },
  {
   "cell_type": "code",
   "execution_count": 61,
   "metadata": {},
   "outputs": [],
   "source": [
    "import os\n",
    "import shutil\n",
    "from pathlib import Path\n",
    "import pandas as pd\n",
    "from PIL import Image\n",
    "from PIL.ExifTags import TAGS"
   ]
  },
  {
   "cell_type": "code",
   "execution_count": 70,
   "metadata": {
    "scrolled": true
   },
   "outputs": [
    {
     "name": "stdout",
     "output_type": "stream",
     "text": [
      "C:\\Users\\LMAOXD\\Documents\\UCI undergrad\\UCI NATURE job\\machine learning code\\WildlifeImageAnalysis_INF191\\Renaming photos\n",
      "Bonita Canyon (Under the Bridge)\n",
      "['.ipynb_checkpoints', 'Bonita Canyon (Under the Bridge)', 'Bonita Canyon (Under the Bridge) - renamed', 'Renaming photos.ipynb']\n"
     ]
    }
   ],
   "source": [
    "ogcwd = Path(r'C:\\Users\\LMAOXD\\Documents\\UCI undergrad\\UCI NATURE job\\machine learning code\\WildlifeImageAnalysis_INF191\\Renaming photos')\n",
    "os.chdir(ogcwd)\n",
    "dirList = os.listdir()\n",
    "BonitaCanyonDir = dirList[1]\n",
    "print(os.getcwd())\n",
    "print(BonitaCanyonDir)\n",
    "print(dirList)"
   ]
  },
  {
   "cell_type": "code",
   "execution_count": 75,
   "metadata": {
    "scrolled": true
   },
   "outputs": [
    {
     "name": "stdout",
     "output_type": "stream",
     "text": [
      "['1_BonitaCanyon_020620_030620', '1_BonitaCanyon_020620_030620 - renamed', '1_BonitaCanyon_020620_030620_DONE.xlsx', '2_BonitaCanyon_030620_040320', '2_BonitaCanyon_030620_040320 - renamed', '2_BonitaCanyon_030620_040320_DONE.xlsx', '3_BonitaCanyon_040320_050120', '3_BonitaCanyon_040320_050120 - renamed', '3_BonitaCanyon_040320_050120_DONE.xlsx', '4_BonitaCanyon_050120_061020', '4_BonitaCanyon_050120_061020 - renamed', '5_BonitaCanyon_061020_080520', '5_BonitaCanyon_061020_080520 - renamed', 'read.me_bonita.docx']\n",
      "1_BonitaCanyon_020620_030620\n",
      "2_BonitaCanyon_030620_040320\n",
      "3_BonitaCanyon_040320_050120\n",
      "4_BonitaCanyon_050120_061020\n",
      "5_BonitaCanyon_061020_080520\n"
     ]
    }
   ],
   "source": [
    "BonitaCanyonPath = ogcwd/BonitaCanyonDir\n",
    "BonitaCanyonSubdirAndFilesList = os.listdir(BonitaCanyonPath)\n",
    "print(BonitaCanyonSubdirAndFilesList)\n",
    "BonitaCanyonSubdirListOG = []\n",
    "BonitaCanyonSubdirList_renamed = []\n",
    "for fileOrDirectory in BonitaCanyonSubdirAndFilesList:\n",
    "    fileOrDirectoryPath = BonitaCanyonPath/fileOrDirectory\n",
    "    directoryExist = os.path.isdir(fileOrDirectoryPath)\n",
    "    if directoryExist == True and \"renamed\" not in fileOrDirectory:\n",
    "        BonitaCanyonSubdirListOG.append(fileOrDirectory)\n",
    "        print(fileOrDirectory)\n",
    "    elif directoryExist == True and \"renamed\" in fileOrDirectory:\n",
    "        BonitaCanyonSubdirList_renamed.append(fileOrDirectory)\n"
   ]
  },
  {
   "cell_type": "code",
   "execution_count": 76,
   "metadata": {},
   "outputs": [
    {
     "data": {
      "text/plain": [
       "['IMG_0001.JPG',\n",
       " 'IMG_0002.JPG',\n",
       " 'IMG_0003.JPG',\n",
       " 'IMG_0004.JPG',\n",
       " 'IMG_0005.JPG',\n",
       " 'IMG_0006.JPG',\n",
       " 'IMG_0007.JPG',\n",
       " 'IMG_0008.JPG',\n",
       " 'IMG_0009.JPG',\n",
       " 'IMG_0010.JPG',\n",
       " 'IMG_0011.JPG',\n",
       " 'IMG_0012.JPG',\n",
       " 'IMG_0013.JPG',\n",
       " 'IMG_0014.JPG',\n",
       " 'IMG_0015.JPG',\n",
       " 'IMG_0016.JPG',\n",
       " 'IMG_0017.JPG',\n",
       " 'IMG_0018.JPG',\n",
       " 'IMG_0019.JPG',\n",
       " 'IMG_0020.JPG',\n",
       " 'IMG_0021.JPG',\n",
       " 'IMG_0022.JPG',\n",
       " 'IMG_0023.JPG',\n",
       " 'IMG_0024.JPG',\n",
       " 'IMG_0025.JPG',\n",
       " 'IMG_0026.JPG',\n",
       " 'IMG_0027.JPG',\n",
       " 'IMG_0028.JPG',\n",
       " 'IMG_0029.JPG',\n",
       " 'IMG_0030.JPG',\n",
       " 'IMG_0031.JPG',\n",
       " 'IMG_0032.JPG',\n",
       " 'IMG_0033.JPG',\n",
       " 'IMG_0034.JPG',\n",
       " 'IMG_0035.JPG',\n",
       " 'IMG_0036.JPG',\n",
       " 'IMG_0037.JPG',\n",
       " 'IMG_0038.JPG',\n",
       " 'IMG_0039.JPG',\n",
       " 'IMG_0040.JPG',\n",
       " 'IMG_0041.JPG',\n",
       " 'IMG_0042.JPG',\n",
       " 'IMG_0043.JPG',\n",
       " 'IMG_0044.JPG',\n",
       " 'IMG_0045.JPG',\n",
       " 'IMG_0046.JPG',\n",
       " 'IMG_0047.JPG',\n",
       " 'IMG_0048.JPG',\n",
       " 'IMG_0049.JPG',\n",
       " 'IMG_0050.JPG',\n",
       " 'IMG_0051.JPG',\n",
       " 'IMG_0052.JPG',\n",
       " 'IMG_0053.JPG',\n",
       " 'IMG_0054.JPG',\n",
       " 'IMG_0055.JPG',\n",
       " 'IMG_0056.JPG',\n",
       " 'IMG_0057.JPG',\n",
       " 'IMG_0058.JPG',\n",
       " 'IMG_0059.JPG',\n",
       " 'IMG_0060.JPG',\n",
       " 'IMG_0061.JPG',\n",
       " 'IMG_0062.JPG',\n",
       " 'IMG_0063.JPG',\n",
       " 'IMG_0064.JPG',\n",
       " 'IMG_0065.JPG',\n",
       " 'IMG_0066.JPG',\n",
       " 'IMG_0067.JPG',\n",
       " 'IMG_0068.JPG',\n",
       " 'IMG_0069.JPG',\n",
       " 'IMG_0070.JPG',\n",
       " 'IMG_0071.JPG',\n",
       " 'IMG_0072.JPG',\n",
       " 'IMG_0073.JPG',\n",
       " 'IMG_0074.JPG',\n",
       " 'IMG_0075.JPG']"
      ]
     },
     "execution_count": 76,
     "metadata": {},
     "output_type": "execute_result"
    }
   ],
   "source": [
    "BonitaCanyonSubdir1 = BonitaCanyonSubdirListOG[0]\n",
    "BonitaCanyonSubdir1Path = BonitaCanyonPath/BonitaCanyonSubdir1\n",
    "os.listdir(BonitaCanyonSubdir1Path)"
   ]
  },
  {
   "cell_type": "code",
   "execution_count": 77,
   "metadata": {},
   "outputs": [
    {
     "data": {
      "text/plain": [
       "['AT', 'BC', 'CB', 'CC', 'CH', 'CT', 'EP', 'HB', 'MB', 'MT', 'RP']"
      ]
     },
     "execution_count": 77,
     "metadata": {},
     "output_type": "execute_result"
    }
   ],
   "source": [
    "overallDirectory = Path(os.path.dirname(ogcwd))\n",
    "speciesDistriAnalyDir = \"Species distribution analysis\"\n",
    "relabeledPhotosDir = overallDirectory/speciesDistriAnalyDir\n",
    "relabeledPhotos = \"re-labeled animal photos.csv\"\n",
    "\n",
    "relabeledPhotos = pd.read_csv(relabeledPhotosDir/relabeledPhotos)\n",
    "relabeledPhotoNames = relabeledPhotos[\"ImageNumber\"].tolist()\n",
    "cameraCounts = relabeledPhotos.groupby(\"LocCode\")[\"LocCode\"].count()\n",
    "cameraCodes = cameraCounts.index.tolist()\n",
    "cameraCodes"
   ]
  },
  {
   "cell_type": "code",
   "execution_count": 78,
   "metadata": {},
   "outputs": [
    {
     "name": "stdout",
     "output_type": "stream",
     "text": [
      "C:\\Users\\LMAOXD\\Documents\\UCI undergrad\\UCI NATURE job\\machine learning code\\WildlifeImageAnalysis_INF191\\Renaming photos\n",
      "1_BonitaCanyon_020620_030620 - renamed\n",
      "1_BonitaCanyon_020620_030620 - renamed - renamed\n",
      "2_BonitaCanyon_030620_040320 - renamed\n",
      "2_BonitaCanyon_030620_040320 - renamed - renamed\n",
      "3_BonitaCanyon_040320_050120 - renamed\n",
      "3_BonitaCanyon_040320_050120 - renamed - renamed\n",
      "4_BonitaCanyon_050120_061020 - renamed\n",
      "4_BonitaCanyon_050120_061020 - renamed - renamed\n",
      "5_BonitaCanyon_061020_080520 - renamed\n",
      "5_BonitaCanyon_061020_080520 - renamed - renamed\n"
     ]
    }
   ],
   "source": [
    "BonitaCanyonDir_renamed = BonitaCanyonDir + \" - renamed\"\n",
    "BonitaCanyonDir_renamedPath = ogcwd/BonitaCanyonDir_renamed\n",
    "print(os.getcwd())\n",
    "\n",
    "# if os.path.exists(BonitaCanyonDir_renamedPath) == False:\n",
    "#     os.mkdir(BonitaCanyonDir_renamedPath)\n",
    "\n",
    "\n",
    "# the following lines create directories of renamed photos. They're commented out for now\n",
    "# because the these directories already exist\n",
    "# BonitaCanyonSubdirList_renamed = []\n",
    "# for subdirectory in BonitaCanyonSubdirList:\n",
    "#     subdirectory_renamed = subdirectory + \" - renamed\"\n",
    "#     BonitaCanyonSubdirList_renamed.append(subdirectory_renamed)\n",
    "#     subdirectory_renamedPath = BonitaCanyonPath/subdirectory_renamed\n",
    "#     if os.path.exists(subdirectory_renamedPath) == False:\n",
    "#         os.mkdir(subdirectory_renamedPath)\n",
    "#     print(subdirectory_renamed)"
   ]
  },
  {
   "cell_type": "code",
   "execution_count": 81,
   "metadata": {},
   "outputs": [
    {
     "name": "stdout",
     "output_type": "stream",
     "text": [
      "1_BonitaCanyon_020620_030620 - renamed\n",
      "Unicode decode error for IMG_0001.JPG; Should be inconsequential.\n",
      "IMG_0001-BC-2020-02-06.JPG\n",
      "Unicode decode error for IMG_0002.JPG; Should be inconsequential.\n",
      "IMG_0002-BC-2020-02-06.JPG\n",
      "Unicode decode error for IMG_0003.JPG; Should be inconsequential.\n",
      "IMG_0003-BC-2020-02-06.JPG\n",
      "Unicode decode error for IMG_0004.JPG; Should be inconsequential.\n",
      "IMG_0004-BC-2020-02-06.JPG\n",
      "Unicode decode error for IMG_0005.JPG; Should be inconsequential.\n",
      "IMG_0005-BC-2020-02-06.JPG\n",
      "Unicode decode error for IMG_0006.JPG; Should be inconsequential.\n",
      "IMG_0006-BC-2020-02-06.JPG\n",
      "Unicode decode error for IMG_0007.JPG; Should be inconsequential.\n",
      "IMG_0007-BC-2020-02-06.JPG\n",
      "Unicode decode error for IMG_0008.JPG; Should be inconsequential.\n",
      "IMG_0008-BC-2020-02-06.JPG\n",
      "Unicode decode error for IMG_0009.JPG; Should be inconsequential.\n",
      "IMG_0009-BC-2020-02-06.JPG\n",
      "Unicode decode error for IMG_0010.JPG; Should be inconsequential.\n",
      "IMG_0010-BC-2020-02-06.JPG\n",
      "Unicode decode error for IMG_0011.JPG; Should be inconsequential.\n",
      "IMG_0011-BC-2020-02-06.JPG\n",
      "Unicode decode error for IMG_0012.JPG; Should be inconsequential.\n",
      "IMG_0012-BC-2020-02-06.JPG\n",
      "Unicode decode error for IMG_0013.JPG; Should be inconsequential.\n",
      "IMG_0013-BC-2020-02-06.JPG\n",
      "Unicode decode error for IMG_0014.JPG; Should be inconsequential.\n",
      "IMG_0014-BC-2020-02-06.JPG\n",
      "Unicode decode error for IMG_0015.JPG; Should be inconsequential.\n",
      "IMG_0015-BC-2020-02-06.JPG\n",
      "Unicode decode error for IMG_0016.JPG; Should be inconsequential.\n",
      "IMG_0016-BC-2020-02-06.JPG\n",
      "Unicode decode error for IMG_0017.JPG; Should be inconsequential.\n",
      "IMG_0017-BC-2020-02-06.JPG\n",
      "Unicode decode error for IMG_0018.JPG; Should be inconsequential.\n",
      "IMG_0018-BC-2020-02-06.JPG\n",
      "Unicode decode error for IMG_0019.JPG; Should be inconsequential.\n",
      "IMG_0019-BC-2020-02-06.JPG\n",
      "Unicode decode error for IMG_0020.JPG; Should be inconsequential.\n",
      "IMG_0020-BC-2020-02-06.JPG\n",
      "Unicode decode error for IMG_0021.JPG; Should be inconsequential.\n",
      "IMG_0021-BC-2020-02-06.JPG\n",
      "Unicode decode error for IMG_0022.JPG; Should be inconsequential.\n",
      "IMG_0022-BC-2020-02-06.JPG\n",
      "Unicode decode error for IMG_0023.JPG; Should be inconsequential.\n",
      "IMG_0023-BC-2020-02-06.JPG\n",
      "Unicode decode error for IMG_0024.JPG; Should be inconsequential.\n",
      "IMG_0024-BC-2020-02-06.JPG\n",
      "Unicode decode error for IMG_0025.JPG; Should be inconsequential.\n",
      "IMG_0025-BC-2020-02-06.JPG\n",
      "Unicode decode error for IMG_0026.JPG; Should be inconsequential.\n",
      "IMG_0026-BC-2020-02-06.JPG\n",
      "Unicode decode error for IMG_0027.JPG; Should be inconsequential.\n",
      "IMG_0027-BC-2020-02-06.JPG\n",
      "Unicode decode error for IMG_0028.JPG; Should be inconsequential.\n",
      "IMG_0028-BC-2020-02-15-coyote.JPG\n",
      "Unicode decode error for IMG_0029.JPG; Should be inconsequential.\n",
      "IMG_0029-BC-2020-02-15-coyote.JPG\n",
      "Unicode decode error for IMG_0030.JPG; Should be inconsequential.\n",
      "IMG_0030-BC-2020-02-15.JPG\n",
      "Unicode decode error for IMG_0031.JPG; Should be inconsequential.\n",
      "IMG_0031-BC-2020-02-19.JPG\n",
      "Unicode decode error for IMG_0032.JPG; Should be inconsequential.\n",
      "IMG_0032-BC-2020-02-19.JPG\n",
      "Unicode decode error for IMG_0033.JPG; Should be inconsequential.\n",
      "IMG_0033-BC-2020-02-19.JPG\n",
      "Unicode decode error for IMG_0034.JPG; Should be inconsequential.\n",
      "IMG_0034-BC-2020-02-19.JPG\n",
      "Unicode decode error for IMG_0035.JPG; Should be inconsequential.\n",
      "IMG_0035-BC-2020-02-19.JPG\n",
      "Unicode decode error for IMG_0036.JPG; Should be inconsequential.\n",
      "IMG_0036-BC-2020-02-19.JPG\n",
      "Unicode decode error for IMG_0037.JPG; Should be inconsequential.\n",
      "IMG_0037-BC-2020-02-19.JPG\n",
      "Unicode decode error for IMG_0038.JPG; Should be inconsequential.\n",
      "IMG_0038-BC-2020-02-19.JPG\n",
      "Unicode decode error for IMG_0039.JPG; Should be inconsequential.\n",
      "IMG_0039-BC-2020-02-19.JPG\n",
      "Unicode decode error for IMG_0040.JPG; Should be inconsequential.\n",
      "IMG_0040-BC-2020-02-19.JPG\n",
      "Unicode decode error for IMG_0041.JPG; Should be inconsequential.\n",
      "IMG_0041-BC-2020-02-19.JPG\n",
      "Unicode decode error for IMG_0042.JPG; Should be inconsequential.\n",
      "IMG_0042-BC-2020-02-19.JPG\n",
      "Unicode decode error for IMG_0043.JPG; Should be inconsequential.\n",
      "IMG_0043-BC-2020-02-19.JPG\n",
      "Unicode decode error for IMG_0044.JPG; Should be inconsequential.\n",
      "IMG_0044-BC-2020-02-19.JPG\n",
      "Unicode decode error for IMG_0045.JPG; Should be inconsequential.\n",
      "IMG_0045-BC-2020-02-19.JPG\n",
      "Unicode decode error for IMG_0046.JPG; Should be inconsequential.\n",
      "IMG_0046-BC-2020-02-19.JPG\n",
      "Unicode decode error for IMG_0047.JPG; Should be inconsequential.\n",
      "IMG_0047-BC-2020-02-19.JPG\n",
      "Unicode decode error for IMG_0048.JPG; Should be inconsequential.\n",
      "IMG_0048-BC-2020-02-19.JPG\n",
      "Unicode decode error for IMG_0049.JPG; Should be inconsequential.\n",
      "IMG_0049-BC-2020-02-19.JPG\n",
      "Unicode decode error for IMG_0050.JPG; Should be inconsequential.\n",
      "IMG_0050-BC-2020-02-19.JPG\n",
      "Unicode decode error for IMG_0051.JPG; Should be inconsequential.\n",
      "IMG_0051-BC-2020-02-19.JPG\n",
      "Unicode decode error for IMG_0052.JPG; Should be inconsequential.\n",
      "IMG_0052-BC-2020-02-19.JPG\n",
      "Unicode decode error for IMG_0053.JPG; Should be inconsequential.\n",
      "IMG_0053-BC-2020-02-19.JPG\n",
      "Unicode decode error for IMG_0054.JPG; Should be inconsequential.\n",
      "IMG_0054-BC-2020-02-19.JPG\n",
      "Unicode decode error for IMG_0055.JPG; Should be inconsequential.\n",
      "IMG_0055-BC-2020-02-19.JPG\n",
      "Unicode decode error for IMG_0056.JPG; Should be inconsequential.\n",
      "IMG_0056-BC-2020-02-19.JPG\n",
      "Unicode decode error for IMG_0057.JPG; Should be inconsequential.\n",
      "IMG_0057-BC-2020-02-19.JPG\n",
      "Unicode decode error for IMG_0058.JPG; Should be inconsequential.\n",
      "IMG_0058-BC-2020-03-03.JPG\n",
      "Unicode decode error for IMG_0059.JPG; Should be inconsequential.\n",
      "IMG_0059-BC-2020-03-03.JPG\n",
      "Unicode decode error for IMG_0060.JPG; Should be inconsequential.\n",
      "IMG_0060-BC-2020-03-03-human.JPG\n",
      "Unicode decode error for IMG_0061.JPG; Should be inconsequential.\n",
      "IMG_0061-BC-2020-03-03.JPG\n",
      "Unicode decode error for IMG_0062.JPG; Should be inconsequential.\n",
      "IMG_0062-BC-2020-03-03.JPG\n",
      "Unicode decode error for IMG_0063.JPG; Should be inconsequential.\n",
      "IMG_0063-BC-2020-03-03.JPG\n",
      "Unicode decode error for IMG_0064.JPG; Should be inconsequential.\n",
      "IMG_0064-BC-2020-03-04-insect.JPG\n",
      "Unicode decode error for IMG_0065.JPG; Should be inconsequential.\n",
      "IMG_0065-BC-2020-03-04.JPG\n",
      "Unicode decode error for IMG_0066.JPG; Should be inconsequential.\n",
      "IMG_0066-BC-2020-03-04.JPG\n",
      "Unicode decode error for IMG_0067.JPG; Should be inconsequential.\n",
      "IMG_0067-BC-2020-03-06.JPG\n",
      "Unicode decode error for IMG_0068.JPG; Should be inconsequential.\n",
      "IMG_0068-BC-2020-03-06.JPG\n",
      "Unicode decode error for IMG_0069.JPG; Should be inconsequential.\n",
      "IMG_0069-BC-2020-03-06.JPG\n",
      "Unicode decode error for IMG_0070.JPG; Should be inconsequential.\n",
      "IMG_0070-BC-2020-03-06.JPG\n",
      "Unicode decode error for IMG_0071.JPG; Should be inconsequential.\n",
      "IMG_0071-BC-2020-03-06.JPG\n",
      "Unicode decode error for IMG_0072.JPG; Should be inconsequential.\n",
      "IMG_0072-BC-2020-03-06.JPG\n",
      "Unicode decode error for IMG_0073.JPG; Should be inconsequential.\n",
      "IMG_0073-BC-2020-03-06.JPG\n",
      "Unicode decode error for IMG_0074.JPG; Should be inconsequential.\n",
      "IMG_0074-BC-2020-03-06.JPG\n",
      "Unicode decode error for IMG_0075.JPG; Should be inconsequential.\n",
      "IMG_0075-BC-2020-03-06.JPG\n"
     ]
    }
   ],
   "source": [
    "# splittedList = BonitaCanyonSubdir1.split(\"_\")\n",
    "# startDate = splittedList[-2]\n",
    "# endDate = splittedList[-1]\n",
    "# print(startDate)\n",
    "# print(endDate)\n",
    "# os.chdir(BonitaCanyonPath)\n",
    "# bonitaCWD = Path(os.getcwd())\n",
    "BonitaCanyonSubdir1Path = BonitaCanyonPath/\"1_BonitaCanyon_020620_030620\"\n",
    "BonitaCanyonSubdir1_renamed = \"1_BonitaCanyon_020620_030620 - renamed\"\n",
    "BonitaCanyonSubdir1_renamedPath = BonitaCanyonPath/BonitaCanyonSubdir1_renamed\n",
    "print(BonitaCanyonSubdir1_renamed)\n",
    "\n",
    "for OldImage in os.listdir(BonitaCanyonSubdir1Path):\n",
    "    PILimage = Image.open(BonitaCanyonSubdir1Path/OldImage)\n",
    "    exifOldImage = PILimage.getexif()\n",
    "    tagsList = []\n",
    "    dataList = []\n",
    "    for tag_id in exifOldImage:\n",
    "    # get the tag name, instead of human unreadable tag id\n",
    "        tag = TAGS.get(tag_id, tag_id)\n",
    "        data = exifOldImage.get(tag_id)\n",
    "    # decode bytes \n",
    "        if isinstance(data, bytes):\n",
    "            try:\n",
    "                data = data.decode()\n",
    "            except:\n",
    "                print(\"Unicode decode error for \" + OldImage + \"; Should be inconsequential.\")\n",
    "        tagsList.append(tag)\n",
    "        dataList.append(data)\n",
    "    metadata = {tagsList[index]: dataList[index] for index in range(len(tagsList))}\n",
    "    dateTime = metadata[\"DateTimeOriginal\"]\n",
    "    dateTimeList = dateTime.split(\" \")\n",
    "    dateColonsList = dateTimeList[0].split(\":\")\n",
    "    year = dateColonsList[0]\n",
    "    month = dateColonsList[1]\n",
    "    day = dateColonsList[2]\n",
    "    formattedDate = \"-\".join([year, month, day])\n",
    "    \n",
    "    oldImageNameParts = OldImage.split(\".\")\n",
    "    oldImageName = oldImageNameParts[0]\n",
    "    fileExtension = \".\" + oldImageNameParts[1]\n",
    "    newImageNameList = [oldImageName, \"BC\", formattedDate]\n",
    "    temporaryName = \"-\".join(newImageNameList)\n",
    "    for image in relabeledPhotoNames:\n",
    "        if temporaryName in image:\n",
    "            temporaryName = image\n",
    "            break\n",
    "\n",
    "    newImageName = temporaryName + fileExtension\n",
    "    newImagePath = str(BonitaCanyonSubdir1_renamedPath/newImageName)\n",
    "    oldImagePath = str(BonitaCanyonSubdir1Path/OldImage)\n",
    "    print(newImageName)\n",
    "    if os.path.exists(newImagePath) == False: \n",
    "        shutil.copy(oldImagePath, newImagePath)            "
   ]
  },
  {
   "cell_type": "markdown",
   "metadata": {},
   "source": [
    "Testing the extraction of metadata from photos. The data I'm planning to extract are the date and time a photo was taken."
   ]
  },
  {
   "cell_type": "code",
   "execution_count": 35,
   "metadata": {},
   "outputs": [
    {
     "name": "stdout",
     "output_type": "stream",
     "text": [
      "ExifVersion              : 0220\n",
      "ComponentsConfiguration  : \u0001\u0002\u0003\u0000\n",
      "CompressedBitsPerPixel   : nan\n",
      "DateTimeOriginal         : 2020:03:04 21:14:26\n",
      "DateTimeDigitized        : 2020:03:04 21:14:26\n",
      "ShutterSpeedValue        : 3.90625\n",
      "ApertureValue            : 2.5234375\n",
      "ExposureBiasValue        : 0.0\n",
      "MaxApertureValue         : 2.4\n",
      "MeteringMode             : 2\n",
      "LightSource              : 0\n",
      "Flash                    : 25\n",
      "FocalLength              : 42.0\n",
      "UserComment              : \u0000\u0000\u0000\u0000\u0000\u0000\u0000\u0000M2 ALS0 L26 T64 S38 940IR20 C2 Y21 B0 ST2 NE0 SNAP0\u0000\u0000\u0000\u0000\u0000\u0000\u0000\u0000\u0000\u0000\u0000\u0000\u0000\u0000\u0000\u0000\u0000\u0000\u0000\u0000\u0000\u0000\u0000\u0000\u0000\u0000\u0000\u0000\u0000\u0000\u0000\u0000\u0000\u0000\u0000\u0000\u0000\u0000\u0000\u0000\u0000\u0000\u0000\u0000\u0000\u0000\u0000\u0000\u0000\u0000\u0000\u0000\u0000\u0000\u0000\u0000\u0000\u0000\u0000\u0000\u0000\u0000\u0000\u0000\u0000\u0000\u0000\u0000\n",
      "ColorSpace               : 1\n",
      "ExifImageWidth           : 4208\n",
      "ExifImageHeight          : 2368\n",
      "Sharpness                : 136\n",
      "Make                     : Prometheus\n",
      "Model                    : BTC-6PXD\n",
      "Orientation              : 1\n",
      "YCbCrPositioning         : 2\n",
      "                    33426: Copyright 2008\n",
      "FileSource               : \u0003\n",
      "ExposureTime             : 0.06666666666666667\n",
      "ExifInteroperabilityOffset: 1767\n",
      "XResolution              : 72.0\n",
      "FNumber                  : 2.4\n",
      "SceneType                : \u0001\n",
      "YResolution              : 72.0\n",
      "ExposureProgram          : 2\n",
      "ISOSpeedRatings          : 400\n",
      "ResolutionUnit           : 2\n",
      "ExposureMode             : 136\n",
      "FlashPixVersion          : 0100\n",
      "WhiteBalance             : 288\n",
      "Software                 : 6PXD-V1804270\n",
      "DateTime                 : 2020:03:04 21:14:26\n",
      "DigitalZoomRatio         : 1000\n",
      "FocalLengthIn35mmFilm    : 136\n",
      "SceneCaptureType         : 136\n",
      "ExifOffset               : 227\n"
     ]
    },
    {
     "ename": "UnicodeDecodeError",
     "evalue": "'utf-8' codec can't decode byte 0xaa in position 0: invalid start byte",
     "output_type": "error",
     "traceback": [
      "\u001b[1;31m---------------------------------------------------------------------------\u001b[0m",
      "\u001b[1;31mUnicodeDecodeError\u001b[0m                        Traceback (most recent call last)",
      "\u001b[1;32m<ipython-input-35-7e0fb0540b77>\u001b[0m in \u001b[0;36m<module>\u001b[1;34m\u001b[0m\n\u001b[0;32m      9\u001b[0m     \u001b[1;31m# decode bytes\u001b[0m\u001b[1;33m\u001b[0m\u001b[1;33m\u001b[0m\u001b[1;33m\u001b[0m\u001b[0m\n\u001b[0;32m     10\u001b[0m     \u001b[1;32mif\u001b[0m \u001b[0misinstance\u001b[0m\u001b[1;33m(\u001b[0m\u001b[0mdata\u001b[0m\u001b[1;33m,\u001b[0m \u001b[0mbytes\u001b[0m\u001b[1;33m)\u001b[0m\u001b[1;33m:\u001b[0m\u001b[1;33m\u001b[0m\u001b[1;33m\u001b[0m\u001b[0m\n\u001b[1;32m---> 11\u001b[1;33m         \u001b[0mdata\u001b[0m \u001b[1;33m=\u001b[0m \u001b[0mdata\u001b[0m\u001b[1;33m.\u001b[0m\u001b[0mdecode\u001b[0m\u001b[1;33m(\u001b[0m\u001b[1;33m)\u001b[0m\u001b[1;33m\u001b[0m\u001b[1;33m\u001b[0m\u001b[0m\n\u001b[0m\u001b[0;32m     12\u001b[0m     \u001b[0mprint\u001b[0m\u001b[1;33m(\u001b[0m\u001b[1;34mf\"{tag:25}: {data}\"\u001b[0m\u001b[1;33m)\u001b[0m\u001b[1;33m\u001b[0m\u001b[1;33m\u001b[0m\u001b[0m\n\u001b[0;32m     13\u001b[0m     \u001b[0mtagsList\u001b[0m\u001b[1;33m.\u001b[0m\u001b[0mappend\u001b[0m\u001b[1;33m(\u001b[0m\u001b[0mtag\u001b[0m\u001b[1;33m)\u001b[0m\u001b[1;33m\u001b[0m\u001b[1;33m\u001b[0m\u001b[0m\n",
      "\u001b[1;31mUnicodeDecodeError\u001b[0m: 'utf-8' codec can't decode byte 0xaa in position 0: invalid start byte"
     ]
    }
   ],
   "source": [
    "IMG_0064 = Image.open(BonitaCanyonSubdir1Path/\"IMG_0064.JPG\")\n",
    "exifIMG_0064 = IMG_0064.getexif()\n",
    "tagsList = []\n",
    "dataList = []\n",
    "for tag_id in exifIMG_0064:\n",
    "    # get the tag name, instead of human unreadable tag id\n",
    "    tag = TAGS.get(tag_id, tag_id)\n",
    "    data = exifIMG_0064.get(tag_id)\n",
    "    # decode bytes \n",
    "    if isinstance(data, bytes):\n",
    "        data = data.decode()\n",
    "    print(f\"{tag:25}: {data}\")\n",
    "    tagsList.append(tag)\n",
    "    dataList.append(data)"
   ]
  },
  {
   "cell_type": "code",
   "execution_count": 20,
   "metadata": {},
   "outputs": [
    {
     "name": "stdout",
     "output_type": "stream",
     "text": [
      "<class 'str'>\n",
      "<class 'str'>\n",
      "<class 'PIL.TiffImagePlugin.IFDRational'>\n",
      "<class 'str'>\n",
      "<class 'str'>\n",
      "<class 'PIL.TiffImagePlugin.IFDRational'>\n",
      "<class 'PIL.TiffImagePlugin.IFDRational'>\n",
      "<class 'PIL.TiffImagePlugin.IFDRational'>\n",
      "<class 'PIL.TiffImagePlugin.IFDRational'>\n",
      "<class 'int'>\n",
      "<class 'int'>\n",
      "<class 'int'>\n",
      "<class 'PIL.TiffImagePlugin.IFDRational'>\n",
      "<class 'str'>\n",
      "<class 'int'>\n",
      "<class 'int'>\n",
      "<class 'int'>\n",
      "<class 'int'>\n",
      "<class 'str'>\n",
      "<class 'str'>\n",
      "<class 'int'>\n",
      "<class 'int'>\n",
      "<class 'str'>\n",
      "<class 'str'>\n",
      "<class 'PIL.TiffImagePlugin.IFDRational'>\n",
      "<class 'int'>\n",
      "<class 'PIL.TiffImagePlugin.IFDRational'>\n",
      "<class 'PIL.TiffImagePlugin.IFDRational'>\n",
      "<class 'str'>\n",
      "<class 'PIL.TiffImagePlugin.IFDRational'>\n",
      "<class 'int'>\n",
      "<class 'int'>\n",
      "<class 'int'>\n",
      "<class 'int'>\n",
      "<class 'str'>\n",
      "<class 'int'>\n",
      "<class 'str'>\n",
      "<class 'str'>\n",
      "<class 'int'>\n",
      "<class 'int'>\n",
      "<class 'int'>\n",
      "<class 'int'>\n"
     ]
    }
   ],
   "source": [
    "for data in dataList:\n",
    "    print(type(data))"
   ]
  },
  {
   "cell_type": "code",
   "execution_count": 21,
   "metadata": {},
   "outputs": [
    {
     "data": {
      "text/plain": [
       "{'ExifVersion': '0220',\n",
       " 'ComponentsConfiguration': '\\x01\\x02\\x03\\x00',\n",
       " 'CompressedBitsPerPixel': nan,\n",
       " 'DateTimeOriginal': '2020:03:04 21:14:26',\n",
       " 'DateTimeDigitized': '2020:03:04 21:14:26',\n",
       " 'ShutterSpeedValue': 3.90625,\n",
       " 'ApertureValue': 2.5234375,\n",
       " 'ExposureBiasValue': 0.0,\n",
       " 'MaxApertureValue': 2.4,\n",
       " 'MeteringMode': 2,\n",
       " 'LightSource': 0,\n",
       " 'Flash': 25,\n",
       " 'FocalLength': 42.0,\n",
       " 'UserComment': '\\x00\\x00\\x00\\x00\\x00\\x00\\x00\\x00M2 ALS0 L26 T64 S38 940IR20 C2 Y21 B0 ST2 NE0 SNAP0\\x00\\x00\\x00\\x00\\x00\\x00\\x00\\x00\\x00\\x00\\x00\\x00\\x00\\x00\\x00\\x00\\x00\\x00\\x00\\x00\\x00\\x00\\x00\\x00\\x00\\x00\\x00\\x00\\x00\\x00\\x00\\x00\\x00\\x00\\x00\\x00\\x00\\x00\\x00\\x00\\x00\\x00\\x00\\x00\\x00\\x00\\x00\\x00\\x00\\x00\\x00\\x00\\x00\\x00\\x00\\x00\\x00\\x00\\x00\\x00\\x00\\x00\\x00\\x00\\x00\\x00\\x00\\x00',\n",
       " 'ColorSpace': 1,\n",
       " 'ExifImageWidth': 4208,\n",
       " 'ExifImageHeight': 2368,\n",
       " 'Sharpness': 136,\n",
       " 'Make': 'Prometheus',\n",
       " 'Model': 'BTC-6PXD',\n",
       " 'Orientation': 1,\n",
       " 'YCbCrPositioning': 2,\n",
       " 33426: 'Copyright 2008',\n",
       " 'FileSource': '\\x03',\n",
       " 'ExposureTime': 0.06666666666666667,\n",
       " 'ExifInteroperabilityOffset': 1767,\n",
       " 'XResolution': 72.0,\n",
       " 'FNumber': 2.4,\n",
       " 'SceneType': '\\x01',\n",
       " 'YResolution': 72.0,\n",
       " 'ExposureProgram': 2,\n",
       " 'ISOSpeedRatings': 400,\n",
       " 'ResolutionUnit': 2,\n",
       " 'ExposureMode': 136,\n",
       " 'FlashPixVersion': '0100',\n",
       " 'WhiteBalance': 288,\n",
       " 'Software': '6PXD-V1804270',\n",
       " 'DateTime': '2020:03:04 21:14:26',\n",
       " 'DigitalZoomRatio': 1000,\n",
       " 'FocalLengthIn35mmFilm': 136,\n",
       " 'SceneCaptureType': 136,\n",
       " 'ExifOffset': 227}"
      ]
     },
     "execution_count": 21,
     "metadata": {},
     "output_type": "execute_result"
    }
   ],
   "source": [
    "metadataIMG_0064 = {tagsList[index]: dataList[index] for index in range(len(tagsList))}\n",
    "metadataIMG_0064"
   ]
  },
  {
   "cell_type": "code",
   "execution_count": 24,
   "metadata": {},
   "outputs": [
    {
     "name": "stdout",
     "output_type": "stream",
     "text": [
      "2020-03-04 21:14:26\n"
     ]
    }
   ],
   "source": [
    "dateTime = metadataIMG_0064[\"DateTimeOriginal\"]\n",
    "dateTimeList = dateTime.split(\" \")\n",
    "time = dateTimeList[1]\n",
    "dateColonsList = dateTimeList[0].split(\":\")\n",
    "year = dateColonsList[0]\n",
    "month = dateColonsList[1]\n",
    "day = dateColonsList[2]\n",
    "formattedDate = \"-\".join([year, month, day])\n",
    "dateTime = \" \".join([formattedDate, time])\n",
    "print(dateTime)"
   ]
  },
  {
   "cell_type": "code",
   "execution_count": 36,
   "metadata": {},
   "outputs": [
    {
     "name": "stdout",
     "output_type": "stream",
     "text": [
      "ExifVersion              : 0220\n",
      "ComponentsConfiguration  : \u0001\u0002\u0003\u0000\n",
      "CompressedBitsPerPixel   : nan\n",
      "DateTimeOriginal         : 2020:02:06 09:03:10\n",
      "DateTimeDigitized        : 2020:02:06 09:03:10\n",
      "ShutterSpeedValue        : 9.435546875\n",
      "ApertureValue            : 2.5234375\n",
      "ExposureBiasValue        : 0.0\n",
      "MaxApertureValue         : 2.4\n",
      "MeteringMode             : 2\n",
      "LightSource              : 0\n",
      "Flash                    : 24\n",
      "FocalLength              : 42.0\n",
      "UserComment              : \u0000\u0000\u0000\u0000\u0000\u0000\u0000\u0000M2 ALS2030 L152 T152 S0 940IR0 C1 Y423 B0 ST2 NE0 SNAP0\u0000\u0000\u0000\u0000\u0000\u0000\u0000\u0000\u0000\u0000\u0000\u0000\u0000\u0000\u0000\u0000\u0000\u0000\u0000\u0000\u0000\u0000\u0000\u0000\u0000\u0000\u0000\u0000\u0000\u0000\u0000\u0000\u0000\u0000\u0000\u0000\u0000\u0000\u0000\u0000\u0000\u0000\u0000\u0000\u0000\u0000\u0000\u0000\u0000\u0000\u0000\u0000\u0000\u0000\u0000\u0000\u0000\u0000\u0000\u0000\u0000\u0000\u0000\u0000\n",
      "ColorSpace               : 1\n",
      "ExifImageWidth           : 2688\n",
      "ExifImageHeight          : 1504\n",
      "Sharpness                : 136\n",
      "Make                     : Prometheus\n",
      "Model                    : BTC-6PXD\n",
      "Orientation              : 1\n",
      "YCbCrPositioning         : 2\n",
      "                    33426: Copyright 2008\n",
      "FileSource               : \u0003\n",
      "ExposureTime             : 0.001443001443001443\n",
      "ExifInteroperabilityOffset: 1767\n",
      "XResolution              : 72.0\n",
      "FNumber                  : 2.4\n",
      "SceneType                : \u0001\n",
      "YResolution              : 72.0\n",
      "ExposureProgram          : 2\n",
      "ISOSpeedRatings          : 100\n",
      "ResolutionUnit           : 2\n",
      "ExposureMode             : 136\n",
      "FlashPixVersion          : 0100\n",
      "WhiteBalance             : 288\n",
      "Software                 : 6PXD-V1804270\n",
      "DateTime                 : 2020:02:06 09:03:10\n",
      "DigitalZoomRatio         : 1000\n",
      "FocalLengthIn35mmFilm    : 136\n",
      "SceneCaptureType         : 136\n",
      "ExifOffset               : 227\n"
     ]
    },
    {
     "ename": "UnicodeDecodeError",
     "evalue": "'utf-8' codec can't decode byte 0xaa in position 0: invalid start byte",
     "output_type": "error",
     "traceback": [
      "\u001b[1;31m---------------------------------------------------------------------------\u001b[0m",
      "\u001b[1;31mUnicodeDecodeError\u001b[0m                        Traceback (most recent call last)",
      "\u001b[1;32m<ipython-input-36-f44d536307bf>\u001b[0m in \u001b[0;36m<module>\u001b[1;34m\u001b[0m\n\u001b[0;32m      9\u001b[0m     \u001b[1;31m# decode bytes\u001b[0m\u001b[1;33m\u001b[0m\u001b[1;33m\u001b[0m\u001b[1;33m\u001b[0m\u001b[0m\n\u001b[0;32m     10\u001b[0m     \u001b[1;32mif\u001b[0m \u001b[0misinstance\u001b[0m\u001b[1;33m(\u001b[0m\u001b[0mdata\u001b[0m\u001b[1;33m,\u001b[0m \u001b[0mbytes\u001b[0m\u001b[1;33m)\u001b[0m\u001b[1;33m:\u001b[0m\u001b[1;33m\u001b[0m\u001b[1;33m\u001b[0m\u001b[0m\n\u001b[1;32m---> 11\u001b[1;33m         \u001b[0mdata\u001b[0m \u001b[1;33m=\u001b[0m \u001b[0mdata\u001b[0m\u001b[1;33m.\u001b[0m\u001b[0mdecode\u001b[0m\u001b[1;33m(\u001b[0m\u001b[1;33m)\u001b[0m\u001b[1;33m\u001b[0m\u001b[1;33m\u001b[0m\u001b[0m\n\u001b[0m\u001b[0;32m     12\u001b[0m     \u001b[0mprint\u001b[0m\u001b[1;33m(\u001b[0m\u001b[1;34mf\"{tag:25}: {data}\"\u001b[0m\u001b[1;33m)\u001b[0m\u001b[1;33m\u001b[0m\u001b[1;33m\u001b[0m\u001b[0m\n\u001b[0;32m     13\u001b[0m     \u001b[0mtagsList0004\u001b[0m\u001b[1;33m.\u001b[0m\u001b[0mappend\u001b[0m\u001b[1;33m(\u001b[0m\u001b[0mtag\u001b[0m\u001b[1;33m)\u001b[0m\u001b[1;33m\u001b[0m\u001b[1;33m\u001b[0m\u001b[0m\n",
      "\u001b[1;31mUnicodeDecodeError\u001b[0m: 'utf-8' codec can't decode byte 0xaa in position 0: invalid start byte"
     ]
    }
   ],
   "source": [
    "IMG_0004 = Image.open(BonitaCanyonSubdir1Path/\"IMG_0004.JPG\")\n",
    "exifIMG_0004 = IMG_0004.getexif()\n",
    "tagsList0004 = []\n",
    "dataList0004 = []\n",
    "for tag_id in exifIMG_0004:\n",
    "    # get the tag name, instead of human unreadable tag id\n",
    "    tag = TAGS.get(tag_id, tag_id)\n",
    "    data = exifIMG_0004.get(tag_id)\n",
    "    # decode bytes \n",
    "    if isinstance(data, bytes):\n",
    "        data = data.decode()\n",
    "    print(f\"{tag:25}: {data}\")\n",
    "    tagsList0004.append(tag)\n",
    "    dataList0004.append(data)"
   ]
  },
  {
   "cell_type": "code",
   "execution_count": 37,
   "metadata": {},
   "outputs": [],
   "source": [
    "metadataIMG_0004 = {tagsList0004[index]: dataList0004[index] for index in range(len(tagsList0004))}"
   ]
  },
  {
   "cell_type": "code",
   "execution_count": 38,
   "metadata": {},
   "outputs": [
    {
     "name": "stdout",
     "output_type": "stream",
     "text": [
      "2020-02-06 09:03:10\n"
     ]
    }
   ],
   "source": [
    "dateTime0004 = metadataIMG_0004[\"DateTimeOriginal\"]\n",
    "dateTimeList0004 = dateTime0004.split(\" \")\n",
    "time0004 = dateTimeList0004[1]\n",
    "dateColonsList0004 = dateTimeList0004[0].split(\":\")\n",
    "year0004 = dateColonsList0004[0]\n",
    "month0004 = dateColonsList0004[1]\n",
    "day0004 = dateColonsList0004[2]\n",
    "formattedDate0004 = \"-\".join([year0004, month0004, day0004])\n",
    "dateTime0004 = \" \".join([formattedDate0004, time0004])\n",
    "print(dateTime0004)"
   ]
  }
 ],
 "metadata": {
  "kernelspec": {
   "display_name": "Python 3",
   "language": "python",
   "name": "python3"
  },
  "language_info": {
   "codemirror_mode": {
    "name": "ipython",
    "version": 3
   },
   "file_extension": ".py",
   "mimetype": "text/x-python",
   "name": "python",
   "nbconvert_exporter": "python",
   "pygments_lexer": "ipython3",
   "version": "3.7.7"
  }
 },
 "nbformat": 4,
 "nbformat_minor": 4
}
