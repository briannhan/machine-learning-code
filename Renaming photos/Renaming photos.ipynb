{
 "cells": [
  {
   "cell_type": "markdown",
   "metadata": {},
   "source": [
    "# Renaming photos\n",
    "## Author(s): Brian Nhan Thien Chung (UCI NATURE research technician)\n",
    "### Created on: Friday August 28, 2020 by Brian Nhan Thien Chung\n",
    "### Last edited on: Wednesday September 9, 2020 by Brian Nhan Thien Chung\n",
    "\n",
    "The purpose of this Jupyter Notebook is to rename photos. As a proof of concept, photos taken at Bonita Canyon will be renamed before photos from other camera locations are renamed.\n",
    "\n",
    "After a successful proof of concept, functions are generated out of the code that was used to rename photos taken at Bonita Canyon. This allows for an abstraction of the renaming process down to a single step: calling a single function to rename photos from a camera.\n",
    "\n",
    "This Jupyter Notebook reads in a csv file of re-labeled animal photos as a pandas dataframe. This notebook can rename photos from one camera at a time. It assumes that photos that the user wants to rename from a particular camera are in an unzipped folder that is in the same directory as this notebook. The location of the csv file is assumed to be in the directory titled \"Species distribution analysis\". If these assumptions are not met, then this notebook cannot rename photos, and the user will have to manually code out the renaming process.\n",
    "\n",
    "The notebook will compare the photos of the camera that the user wants to rename with the photos in the csv file of re-labeled animal photos. The photos will be copied, and each copied photo will have a name with the following components:\n",
    "\n",
    "(1) The original image number\n",
    "\n",
    "(2) 2-letter camera code\n",
    "\n",
    "(3) Date the photo was taken\n",
    "\n",
    "(4, optional) Species, if the photo was noted to have a species in the csv file. If not, then this element is missing.\n",
    "\n",
    "To rename photos of a particular camera, please ensure that the above assumptions are met first. Then simply call the following function: renamePhotosInCamera(). This function will then call 2 other functions. Ignore these 2 other functions unless if there is a bug and just call this function. This function takes 2 arguments in the following order:\n",
    "\n",
    "(1) Folder name of the camera whose photos the user wants to rename. Simply copy and paste the folder name in for this argument.\n",
    "\n",
    "(2) 2-letter camera code of the particular camera whose photos the user wants to rename\n",
    "\n",
    "Both arguments must have the string data type.\n",
    "\n",
    "The function does not return anything. It can only rename photos from one camera at a time. To rename multiple cameras, simply repeat the steps and follow the assumptions above: the user must ensure that each camera whose photos the user wants to rename each have a directory that is in the same directory as this notebook. The user must then call this function and put in the folder name and the 2-letter camera code as strings. Simply repeat the steps and follow the assumptions above multiple times until photos from every camera the user wants to rename had been renamed.\n",
    "\n",
    "The following folder structures are the only acceptable folder structures for this notebook:\n",
    "\n",
    "(1) overall camera folder -------> subfolders ----------> photos\n",
    "\n",
    "(2) overall camera folder -------> photos\n",
    "\n",
    "Please ensure that these folder structures are met. No other structures are acceptable in this notebook.\n",
    "\n",
    "Please ensure that there are no periods in photo names other than the period before the photo's file extension.\n",
    "\n",
    "Also, this is intended to rename very large amounts of photos. Photos from Research Park alone numbered approximately 32 gigabytes. Since this code duplicates photos, the total number of photos jumped up to 64 gigabytes after renaming. Please ensure that your machine has enough storage space to rename photos.\n",
    "\n",
    "Now, have fun!"
   ]
  },
  {
   "cell_type": "code",
   "execution_count": 3,
   "metadata": {},
   "outputs": [
    {
     "data": {
      "application/javascript": [
       "IPython.notebook.set_autosave_interval(10000)"
      ]
     },
     "metadata": {},
     "output_type": "display_data"
    },
    {
     "name": "stdout",
     "output_type": "stream",
     "text": [
      "Autosaving every 10 seconds\n"
     ]
    }
   ],
   "source": [
    "%autosave 10"
   ]
  },
  {
   "cell_type": "code",
   "execution_count": 4,
   "metadata": {},
   "outputs": [],
   "source": [
    "import os\n",
    "import shutil\n",
    "from pathlib import Path\n",
    "import pandas as pd\n",
    "from PIL import Image\n",
    "from PIL.ExifTags import TAGS"
   ]
  },
  {
   "cell_type": "code",
   "execution_count": 5,
   "metadata": {
    "scrolled": true
   },
   "outputs": [
    {
     "name": "stdout",
     "output_type": "stream",
     "text": [
      "['.ipynb_checkpoints', '2_Respark_040419_042519', '2_Respark_040419_042519 - renamed', 'Renaming photos.ipynb', 'test camera', 'test camera - renamed']\n"
     ]
    }
   ],
   "source": [
    "ogcwdStr = os.getcwd()\n",
    "ogcwd = Path(ogcwdStr)\n",
    "os.chdir(ogcwd)\n",
    "dirList = os.listdir()\n",
    "# print(os.getcwd())\n",
    "print(dirList)"
   ]
  },
  {
   "cell_type": "code",
   "execution_count": 6,
   "metadata": {},
   "outputs": [
    {
     "data": {
      "text/plain": [
       "['AT', 'BC', 'CB', 'CC', 'CH', 'CT', 'EP', 'HB', 'MB', 'MT', 'RP']"
      ]
     },
     "execution_count": 6,
     "metadata": {},
     "output_type": "execute_result"
    }
   ],
   "source": [
    "overallDirectory = Path(os.path.dirname(ogcwd))\n",
    "speciesDistriAnalyDir = \"Species distribution analysis\"\n",
    "relabeledPhotosDir = overallDirectory/speciesDistriAnalyDir\n",
    "relabeledPhotos = \"re-labeled animal photos.csv\"\n",
    "\n",
    "relabeledPhotos = pd.read_csv(relabeledPhotosDir/relabeledPhotos)\n",
    "relabeledPhotoNames = relabeledPhotos[\"ImageNumber\"].tolist()\n",
    "cameraCounts = relabeledPhotos.groupby(\"LocCode\")[\"LocCode\"].count()\n",
    "cameraCodes = cameraCounts.index.tolist()\n",
    "cameraCodes"
   ]
  },
  {
   "cell_type": "code",
   "execution_count": 7,
   "metadata": {},
   "outputs": [],
   "source": [
    "def makeRenamedDirectories(overallCameraDir: \"name of camera folder\"):\n",
    "    \"\"\"Make directories to contain renamed photos. Please copy in the name of the camera folder\n",
    "    in for the parameter of this function. This function returns 2 lists of subdirectory paths\n",
    "    (Path object) and 2 path objects: the path of overallCameraDir and the path for the renamed\n",
    "    version of overallCameraDir\"\"\"\n",
    "    overallCameraDir_renamed = overallCameraDir + \" - renamed\"\n",
    "    overallCameraDir_renamedPath = ogcwd/overallCameraDir_renamed\n",
    "    if os.path.exists(overallCameraDir_renamedPath) == False:\n",
    "        os.mkdir(overallCameraDir_renamedPath)\n",
    "    overallCameraDirPath = ogcwd/overallCameraDir\n",
    "    cameraFileAndSubdirList = os.listdir(overallCameraDirPath)\n",
    "    cameraSubdirList = []\n",
    "    for fileOrSubdirectory in cameraFileAndSubdirList:\n",
    "        fileOrSubdirectoryPath = overallCameraDirPath/fileOrSubdirectory\n",
    "        if os.path.isdir(fileOrSubdirectoryPath) and \"renamed\" not in fileOrSubdirectory:\n",
    "            cameraSubdirList.append(fileOrSubdirectory)\n",
    "    cameraSubdirList_renamed = []\n",
    "    for index in range(len(cameraSubdirList)):\n",
    "        subdirectory_renamed = cameraSubdirList[index] + \" - renamed\"\n",
    "        cameraSubdirList[index] = overallCameraDirPath/cameraSubdirList[index]\n",
    "        subdirectory_renamedPath = overallCameraDir_renamedPath/subdirectory_renamed\n",
    "        cameraSubdirList_renamed.append(subdirectory_renamedPath)\n",
    "        if os.path.exists(subdirectory_renamedPath) == False:\n",
    "            os.mkdir(subdirectory_renamedPath)\n",
    "        print(subdirectory_renamed)\n",
    "    return cameraSubdirList, cameraSubdirList_renamed, overallCameraDirPath, overallCameraDir_renamedPath"
   ]
  },
  {
   "cell_type": "code",
   "execution_count": 8,
   "metadata": {},
   "outputs": [],
   "source": [
    "def renamingPhotosInSingleDirectory(directoryPath, renameddirectoryPath, cameraCode: \"2 letter camera code\") -> None:\n",
    "    \"\"\"Rename photos in only a single directory. If a camera has multiple subdirectories for photos\n",
    "    from multiple periods, then this function needs to be called multiple times to rename every photo\n",
    "    in each subdirectory. If a camera has no subdirectories, then this function will rename every photo\n",
    "    within that camera directory\"\"\"\n",
    "\n",
    "    files = os.listdir(directoryPath)\n",
    "    ogImages = []\n",
    "    for file in files:\n",
    "        extension = file.split(\".\")[-1]\n",
    "        if extension.lower() == \"jpg\" or extension.lower() == \"jpeg\":\n",
    "            ogImages.append(file)\n",
    "    for OldImage in ogImages:\n",
    "        PILimage = Image.open(directoryPath/OldImage)\n",
    "        exifOldImage = PILimage.getexif()\n",
    "        tagsList = []\n",
    "        dataList = []\n",
    "        for tag_id in exifOldImage:\n",
    "        # get the tag name, instead of human unreadable tag id\n",
    "            tag = TAGS.get(tag_id, tag_id)\n",
    "            data = exifOldImage.get(tag_id)\n",
    "        # decode bytes \n",
    "            if isinstance(data, bytes):\n",
    "                try:\n",
    "                    data = data.decode()\n",
    "                except:\n",
    "                    print(\"Unicode decode error for \" + OldImage + \"; Should be inconsequential.\")\n",
    "            tagsList.append(tag)\n",
    "            dataList.append(data)\n",
    "        metadata = {tagsList[index]: dataList[index] for index in range(len(tagsList))}\n",
    "        dateTime = metadata[\"DateTimeOriginal\"]\n",
    "        dateTimeList = dateTime.split(\" \")\n",
    "        dateComponents = dateTimeList[0].split(\":\")\n",
    "        year = dateComponents[0]\n",
    "        month = dateComponents[1]\n",
    "        day = dateComponents[2]\n",
    "        formattedDate = \"-\".join([year, month, day])\n",
    "\n",
    "        oldImageNameParts = OldImage.split(\".\")\n",
    "        oldImageName = oldImageNameParts[0]\n",
    "        fileExtension = \".\" + oldImageNameParts[1]\n",
    "        newImageNameList = [oldImageName, cameraCode, formattedDate]\n",
    "        temporaryName = \"-\".join(newImageNameList)\n",
    "        speciesList = []\n",
    "        for image in relabeledPhotoNames:\n",
    "            ogImageNameList = image.split(\"-\")\n",
    "            ogImageName = ogImageNameList[0]\n",
    "            ogImageCameraCode = ogImageNameList[1]\n",
    "            ogImageDateParts = [ogImageNameList[2], ogImageNameList[3], ogImageNameList[4]]\n",
    "            ogImageFormattedDate = \"-\".join(ogImageDateParts)\n",
    "            if (ogImageName in oldImageName and ogImageCameraCode == cameraCode and ogImageFormattedDate == formattedDate) or (temporaryName in image):\n",
    "                print(\"The original image name on the relabeled photos csv is {}\".format(ogImageName))\n",
    "                species = ogImageNameList[-1]\n",
    "                temporaryName = image\n",
    "                if species not in speciesList:\n",
    "                    speciesList.append(species)\n",
    "                break\n",
    "        wildAnimals = [\"bird and raccoon\", \"rabbit and bird\", \n",
    "                       \"rabbit and coyote\", \"rabbit and unknown animal(s)\"]\n",
    "        wildAnimalAndHuman = [\"bird and human\", \"human + dog + rabbit\", \"rabbit and human\"]\n",
    "        \n",
    "        processedSpeciesList = []\n",
    "        for index in range(len(speciesList)):\n",
    "            if speciesList[index] not in wildAnimals and speciesList[index] not in wildAnimalAndHuman:\n",
    "                processedSpeciesList.append(speciesList[index])\n",
    "            elif speciesList[index] in wildAnimals and \"wild animals\" not in processedSpeciesList:\n",
    "                processedSpeciesList.append(\"wild animals\")\n",
    "            elif speciesList[index] in wildAnimalAndHuman and \"animal and human\" not in processedSpeciesList:\n",
    "                processedSpeciesList.append(\"animal and human\")\n",
    "        speciesList = processedSpeciesList\n",
    "        for species in speciesList:\n",
    "            speciesFolderPath = renameddirectoryPath/species\n",
    "            if os.path.exists(speciesFolderPath) == False:\n",
    "                os.mkdir(speciesFolderPath)\n",
    "        temporaryNameSplitted = temporaryName.split(\"-\")\n",
    "        species = temporaryNameSplitted[-1]\n",
    "        newImageName = temporaryName + fileExtension\n",
    "        oldImagePath = str(directoryPath/OldImage)\n",
    "        miscellaneousFolderPath = renameddirectoryPath/\"miscellaneous\"\n",
    "        if os.path.exists(miscellaneousFolderPath) == False:\n",
    "            os.mkdir(miscellaneousFolderPath)\n",
    "        if species in speciesList or species in wildAnimals or species in wildAnimalAndHuman:\n",
    "            if species in wildAnimals:\n",
    "                species = \"wild animals\"\n",
    "            elif species in wildAnimalAndHuman:\n",
    "                species = \"animal and human\"\n",
    "            speciesFolderPath = renameddirectoryPath/species\n",
    "            newImagePath = str(speciesFolderPath/newImageName)\n",
    "        else:\n",
    "            newImagePath = str(miscellaneousFolderPath/newImageName)\n",
    "\n",
    "        print(newImageName)\n",
    "        if os.path.exists(newImagePath) == False:\n",
    "            shutil.copy(oldImagePath, newImagePath)\n",
    "    return"
   ]
  },
  {
   "cell_type": "code",
   "execution_count": 9,
   "metadata": {},
   "outputs": [
    {
     "data": {
      "text/plain": [
       "Species\n",
       "bird                             292\n",
       "bird and human                     6\n",
       "bird and raccoon                   1\n",
       "coyote                           801\n",
       "dog and human                    384\n",
       "domestic dog                     139\n",
       "horse                              6\n",
       "horse and human                   64\n",
       "human                           4178\n",
       "human + dog + rabbit               1\n",
       "insect                            38\n",
       "lizard                            16\n",
       "mouse                              3\n",
       "opossum                           10\n",
       "rabbit                          2673\n",
       "rabbit and bird                    2\n",
       "rabbit and coyote                  1\n",
       "rabbit and human                  11\n",
       "rabbit and unknown animal(s)       2\n",
       "raccoon                          327\n",
       "rat                               14\n",
       "snake                              3\n",
       "squirrel                          25\n",
       "unknown                          352\n",
       "vehicle                           24\n",
       "vehicle and human                  3\n",
       "Name: Species, dtype: int64"
      ]
     },
     "execution_count": 9,
     "metadata": {},
     "output_type": "execute_result"
    }
   ],
   "source": [
    "speciesCounts = relabeledPhotos.groupby(\"Species\")[\"Species\"].count()\n",
    "speciesCounts"
   ]
  },
  {
   "cell_type": "code",
   "execution_count": 10,
   "metadata": {},
   "outputs": [],
   "source": [
    "def renamePhotosInCamera(cameraName: \"string representing name of camera folder\", cameraCode: \"2-letter camera code\"):\n",
    "    \"\"\"Renames photos of a camera. This initially calls the makeRenamedDirectories() function to make\n",
    "    empty directories that will later hold renamed photos. It will then call\n",
    "    the renamingPhotosInSubdirectory() function a few times depending on how many subdirectories\n",
    "    are in the original camera folder.\"\"\"\n",
    "    subdirPaths, subdir_renamedPaths, cameraPath, renamedCameraPath = makeRenamedDirectories(cameraName)\n",
    "    if len(subdirPaths) == 0:\n",
    "        renamingPhotosInSingleDirectory(cameraPath, renamedCameraPath, cameraCode)\n",
    "    elif len(subdirPaths) > 0:\n",
    "        for index in range(len(subdirPaths)):\n",
    "            subdirPath = subdirPaths[index]\n",
    "            subdir_renamedPath = subdir_renamedPaths[index]\n",
    "            renamingPhotosInSingleDirectory(subdirPath, subdir_renamedPath, cameraCode)\n",
    "    return\n",
    "    "
   ]
  },
  {
   "cell_type": "code",
   "execution_count": 11,
   "metadata": {},
   "outputs": [],
   "source": [
    "# renamePhotosInCamera(\"Bonita Canyon (Under the Bridge)\", \"BC\")\n",
    "# renamePhotosInCamera(\"Research Park\", \"RP\")\n",
    "# renamePhotosInCamera(\"test camera\", \"AT\")"
   ]
  },
  {
   "cell_type": "markdown",
   "metadata": {},
   "source": [
    "## Research Park"
   ]
  },
  {
   "cell_type": "code",
   "execution_count": 12,
   "metadata": {},
   "outputs": [],
   "source": [
    "# renamePhotosInCamera(\"1_Respark_032219_040419\", \"RP\")"
   ]
  },
  {
   "cell_type": "code",
   "execution_count": 13,
   "metadata": {},
   "outputs": [],
   "source": [
    "# renamePhotosInCamera(\"2_Respark_040419_042519\", \"RP\")"
   ]
  },
  {
   "cell_type": "code",
   "execution_count": 14,
   "metadata": {},
   "outputs": [],
   "source": [
    "# renamePhotosInCamera(\"3_Respark_042519_050919\", \"RP\")"
   ]
  },
  {
   "cell_type": "code",
   "execution_count": 15,
   "metadata": {},
   "outputs": [],
   "source": [
    "# renamePhotosInCamera(\"4_Respark_050919_052319\", \"RP\")"
   ]
  },
  {
   "cell_type": "markdown",
   "metadata": {},
   "source": [
    "Here's some code to check the species distribution of the actual renamed photos vs the csv file of relabeled animal photos. This chunk was originally written to look at the species distribution of the actual renamed photos in Research Park, NOT the relabeled animal photos of Research Park in the csv file of relabeled animal photos. However, this chunk of code can be customized for other cameras as well. Please customize this however you see fit."
   ]
  },
  {
   "cell_type": "code",
   "execution_count": 16,
   "metadata": {},
   "outputs": [],
   "source": [
    "# renamedFolders = []\n",
    "# for directory in dirList:\n",
    "#     if \"renamed\" in directory:\n",
    "#         renamedFolders.append(directory)\n",
    "\n",
    "# overallCounts = []\n",
    "# for indexRenamed in range(len(renamedFolders)):\n",
    "#     directoryPath = ogcwd/renamedFolders[indexRenamed]\n",
    "#     speciesFolders = os.listdir(directoryPath)\n",
    "#     folderName = renamedFolders[indexRenamed]\n",
    "#     for indexSpecies in range(len(speciesFolders)):\n",
    "#         speciesFolderPath = directoryPath/speciesFolders[indexSpecies]\n",
    "#         speciesFolder = speciesFolders[indexSpecies]\n",
    "#         speciesCount = len(os.listdir(speciesFolderPath))\n",
    "#         entry = [folderName, speciesFolder, speciesCount]\n",
    "#         print(entry)\n",
    "#         overallCounts.append(entry)\n",
    "\n",
    "# columnLabels = [\"Photo period\", \"Species\", \"Count\"]\n",
    "\n",
    "# researchParkCounts = pd.DataFrame(data = overallCounts, columns = columnLabels)\n",
    "# researchParkCounts\n",
    "\n",
    "# counts = researchParkCounts.groupby(\"Species\")[\"Count\"].sum()\n",
    "# counts\n"
   ]
  },
  {
   "cell_type": "markdown",
   "metadata": {},
   "source": [
    "In conclusion, I think that my renaming algorithm keeps similar enough species proportions despite the renaming algorithm resulting in some animal photos being misclassified as \"miscellaneous\", so the actual number of animal photos for certain animals are lower. This lowering is due to initial human error (just error that's not from me) from entering data into the spreadsheets that were compiled into the overall Camera_METADATA_UCI spreadsheet and then analyzed by me. The dates the CEB interns or anyone who manually reviewed photos entered into these spreadsheets were different from the dates in the actual photo."
   ]
  }
 ],
 "metadata": {
  "kernelspec": {
   "display_name": "Python 3",
   "language": "python",
   "name": "python3"
  },
  "language_info": {
   "codemirror_mode": {
    "name": "ipython",
    "version": 3
   },
   "file_extension": ".py",
   "mimetype": "text/x-python",
   "name": "python",
   "nbconvert_exporter": "python",
   "pygments_lexer": "ipython3",
   "version": "3.7.7"
  }
 },
 "nbformat": 4,
 "nbformat_minor": 4
}
